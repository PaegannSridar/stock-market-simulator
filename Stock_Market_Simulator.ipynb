{
 "cells": [
  {
   "cell_type": "markdown",
   "id": "1aa19ea2-02df-4ec2-ab0d-acc090ee9c86",
   "metadata": {},
   "source": [
    "Make all the imports"
   ]
  },
  {
   "cell_type": "code",
   "id": "8aedb377-10c2-4932-92ee-5d19189b765c",
   "metadata": {
    "ExecuteTime": {
     "end_time": "2024-09-01T12:08:06.670338Z",
     "start_time": "2024-09-01T12:08:06.659883Z"
    }
   },
   "source": [
    "from math import log1p\n",
    "\n",
    "import pandas_datareader as web\n",
    "import yfinance as yf\n",
    "import pandas as pd\n",
    "import numpy as np\n",
    "import datetime as dt\n",
    "import matplotlib.pyplot as plt\n",
    "import math\n",
    "import warnings\n",
    "\n",
    "from prompt_toolkit.key_binding.bindings.named_commands import accept_line\n",
    "\n",
    "warnings.filterwarnings(\"ignore\")\n",
    "%matplotlib inline"
   ],
   "outputs": [],
   "execution_count": 431
  },
  {
   "cell_type": "markdown",
   "id": "5faf7958-7255-41ff-9056-f3a0e14a7002",
   "metadata": {},
   "source": [
    "Get all the stock symbols and dowload all the closing prices and the volumes traded from Yahoo Finance"
   ]
  },
  {
   "cell_type": "code",
   "id": "061d90cb-c802-4d35-bc83-6350d722c782",
   "metadata": {
    "ExecuteTime": {
     "end_time": "2024-09-01T12:08:06.700973Z",
     "start_time": "2024-09-01T12:08:06.697398Z"
    }
   },
   "source": [
    "stocks = []\n",
    "f = open('symbols.txt', 'r')\n",
    "for line in f:\n",
    "    stocks.append(line.strip())\n",
    "f.close()\n",
    "\n",
    "#yf.download(stocks, start='2000-01-01', end='2024-08-20')['Adj Close'].to_csv('prices.csv')\n",
    "#yf.download(stocks, start='2000-01-01', end='2024-08-20')['Volume'].to_csv('volume.csv')\n"
   ],
   "outputs": [],
   "execution_count": 432
  },
  {
   "cell_type": "markdown",
   "id": "3f9cd777-97c1-43a2-9e51-21f72a8f4fd5",
   "metadata": {},
   "source": [
    "Create dataframes containing the log changes in volumes and log changes in price"
   ]
  },
  {
   "cell_type": "code",
   "id": "ee278278-6442-4ae0-a801-e20f38567c8f",
   "metadata": {
    "ExecuteTime": {
     "end_time": "2024-09-01T12:08:07.531975Z",
     "start_time": "2024-09-01T12:08:06.761220Z"
    }
   },
   "source": [
    "prices = pd.read_csv('prices.csv', index_col = 'Date', parse_dates=True)\n",
    "pricechanges = pd.read_csv('prices.csv', index_col = 'Date', parse_dates=True)\n",
    "pricechanges = np.log(pricechanges / pricechanges.shift(1))"
   ],
   "outputs": [],
   "execution_count": 433
  },
  {
   "cell_type": "markdown",
   "id": "6217a45d-6e45-460a-9fec-ba25ed337072",
   "metadata": {},
   "source": [
    "Set the start and end date of the simulation and all the lists/dictionaries required for the simulation"
   ]
  },
  {
   "cell_type": "code",
   "id": "9cbd7000-5ba7-4ba6-83d6-edb3eca970be",
   "metadata": {
    "ExecuteTime": {
     "end_time": "2024-09-01T12:08:07.799017Z",
     "start_time": "2024-09-01T12:08:07.550398Z"
    }
   },
   "source": [
    "today = dt.date(2020,8,20)\n",
    "simend = dt.date(2024,8,20)\n",
    "tickers = []\n",
    "transactionid = 0\n",
    "money = 1000000\n",
    "portfolio = {}\n",
    "activelog = []\n",
    "transactionlog = []\n",
    "short_window = 50\n",
    "long_window = 150\n",
    "short_ma = prices.rolling(window=short_window).mean()\n",
    "long_ma = prices.rolling(window=long_window).mean()"
   ],
   "outputs": [],
   "execution_count": 434
  },
  {
   "cell_type": "markdown",
   "id": "c04d4297-4316-4fda-96cc-230682fea083",
   "metadata": {},
   "source": [
    "Get the current prices of all stocks."
   ]
  },
  {
   "cell_type": "code",
   "id": "b4cf9cce-1572-47fa-90e5-748f550daa30",
   "metadata": {
    "ExecuteTime": {
     "end_time": "2024-09-01T12:08:07.818819Z",
     "start_time": "2024-09-01T12:08:07.816405Z"
    }
   },
   "source": [
    "def getprice(date, ticker):\n",
    "    global prices\n",
    "    return prices.loc[np.datetime64(date)][ticker]"
   ],
   "outputs": [],
   "execution_count": 435
  },
  {
   "cell_type": "markdown",
   "id": "c056b3bc-39c0-41d2-9ac0-b44fe73c409f",
   "metadata": {},
   "source": [
    "Makes two dictionaries of all the transactoins we do:\n",
    "- The first dictionary is all of our active positions\n",
    "- The second dictionary contains all transactions that have been made.\n"
   ]
  },
  {
   "cell_type": "code",
   "id": "2667f915-2d01-4c45-b9d8-9f46c30cf792",
   "metadata": {
    "ExecuteTime": {
     "end_time": "2024-09-01T12:08:07.839719Z",
     "start_time": "2024-09-01T12:08:07.836587Z"
    }
   },
   "source": [
    "def transaction(trans_id, ticker, amount, price, trans_type):\n",
    "    global transactionid, transactionlog, today\n",
    "    if trans_type == 'buy':\n",
    "        transactionid += 1\n",
    "        data = {'transaction ID':transactionid, 'ticker':ticker, 'amount':amount, 'price':price, 'type':'buy', 'date':today}\n",
    "        activelog.append(data)\n",
    "    if trans_type == 'sell':\n",
    "        data = {'transaction ID':trans_id, 'ticker':ticker, 'amount':amount, 'price':price, 'type':'sell', 'date':today}\n",
    "    transactionlog.append(data)"
   ],
   "outputs": [],
   "execution_count": 436
  },
  {
   "cell_type": "markdown",
   "id": "4a36983e-966c-40a8-8bc8-83bf664051cc",
   "metadata": {},
   "source": [
    "This function buys all of the stocks in our interest list with the allocated money and then calls the transaction function to record the transaction"
   ]
  },
  {
   "cell_type": "code",
   "id": "ac2ae58e-130b-41df-b297-55375118c69d",
   "metadata": {
    "ExecuteTime": {
     "end_time": "2024-09-01T12:08:07.858818Z",
     "start_time": "2024-09-01T12:08:07.856285Z"
    }
   },
   "source": [
    "def buy(interestlst, allocated_money):\n",
    "    global money, portfolio\n",
    "    allocated_money = 20000\n",
    "    for item in interestlst:\n",
    "        price = getprice(today, item)\n",
    "        if not np.isnan(price) and money >= 21000 and portfolio[item] ==0:\n",
    "            quantity = math.floor(allocated_money/price)\n",
    "            money -= quantity*price\n",
    "            portfolio[item] += quantity\n",
    "            transaction(0, item, quantity, price, 'buy')"
   ],
   "outputs": [],
   "execution_count": 437
  },
  {
   "cell_type": "markdown",
   "id": "2b9d2322-894a-442d-8340-a1e5225f2206",
   "metadata": {},
   "source": [
    "Sells all the stocks that meet the conditions of our strategy. The transaction() function is called to record the transaction. All the sold stocks are removed from our active log."
   ]
  },
  {
   "cell_type": "code",
   "id": "7deb3456-2921-4993-a3be-fcb80cd52505",
   "metadata": {
    "ExecuteTime": {
     "end_time": "2024-09-01T12:08:07.878923Z",
     "start_time": "2024-09-01T12:08:07.875303Z"
    }
   },
   "source": [
    "def sell():\n",
    "    global money, portfolio, prices, today, short_ma, long_ma\n",
    "    itemstoremove = []\n",
    "   \n",
    "    for i in range(len(activelog)):\n",
    "        log = activelog[i]\n",
    "        ticker = log['ticker']\n",
    "        original_price = log['price']\n",
    "        tickprice = getprice(today, ticker)\n",
    "        \n",
    "        short_ma_value = short_ma[ticker].loc[today.strftime('%Y-%m-%d')]\n",
    "        long_ma_value = long_ma[ticker].loc[today.strftime('%Y-%m-%d')]\n",
    "        \n",
    "        if ((short_ma_value < long_ma_value) or (0.99 * original_price >= tickprice)) and portfolio[ticker] > 0:\n",
    "            money += log[\"amount\"] * tickprice\n",
    "            portfolio[ticker] -= log[\"amount\"]\n",
    "            transaction(log[\"transaction ID\"], ticker, log[\"amount\"], tickprice, \"sell\")\n",
    "            itemstoremove.append(i)\n",
    "\n",
    "        elif (1.03 * original_price <= tickprice) or (money < 5000 and 1.01 * original_price <= tickprice) and portfolio[ticker] > 0:\n",
    "            money += log[\"amount\"] * tickprice\n",
    "            portfolio[ticker] -= log[\"amount\"]\n",
    "            transaction(log[\"transaction ID\"], ticker, log[\"amount\"], tickprice, \"sell\")\n",
    "            itemstoremove.append(i)\n",
    "    itemstoremove.reverse()\n",
    "    for elem in itemstoremove:\n",
    "        activelog.remove(activelog[elem])\n"
   ],
   "outputs": [],
   "execution_count": 438
  },
  {
   "cell_type": "markdown",
   "id": "f11ba4cf-76b4-4bc6-94a3-74eb98a06cde",
   "metadata": {},
   "source": [
    "Creates a list of all the stocks that are worth buying according to our strategy"
   ]
  },
  {
   "cell_type": "code",
   "id": "d3e6d1f0-ae86-4e8d-b671-d361a7c6c199",
   "metadata": {
    "ExecuteTime": {
     "end_time": "2024-09-01T12:08:07.897781Z",
     "start_time": "2024-09-01T12:08:07.894523Z"
    }
   },
   "source": [
    "def simulation():\n",
    "    global today, prices, money, portfolio, pricechanges\n",
    "    tickers = portfolio.keys()\n",
    "    interestlst = []\n",
    "    start_date = today - dt.timedelta(days=7)\n",
    "\n",
    "    for ticker in tickers:\n",
    "        short_ma_value = short_ma[ticker].loc[today.strftime('%Y-%m-%d')]\n",
    "        long_ma_value = long_ma[ticker].loc[today.strftime('%Y-%m-%d')]\n",
    "        if np.isnan(short_ma_value) or np.isnan(long_ma_value):\n",
    "            continue\n",
    "        if short_ma_value > long_ma_value:\n",
    "            if portfolio[ticker] == 0:\n",
    "                interestlst.append(ticker)\n",
    "   \n",
    "    meanprice = pricechanges.loc[start_date:today].mean().sort_values()\n",
    "    interestlst2 = meanprice[(meanprice > 0.00900)].index.tolist()\n",
    "    interestlst.extend(interestlst2)\n",
    "    set(interestlst)\n",
    "    sell()\n",
    "\n",
    "    if len(interestlst) > 0:\n",
    "        #moneyToAllocate = 500000/len(interestlst)\n",
    "        moneyToAllocate = money/(2*len(interestlst))\n",
    "        buy(interestlst[0:round(len(interestlst)/2)], moneyToAllocate)"
   ],
   "outputs": [],
   "execution_count": 439
  },
  {
   "cell_type": "markdown",
   "id": "6ad561d2-f638-4996-82b6-678220452542",
   "metadata": {},
   "source": [
    "**getindices():** This function gets all the stock symbols and stores them."
   ]
  },
  {
   "cell_type": "code",
   "id": "a932c1ab-6c2f-4565-af09-5d58617233e6",
   "metadata": {
    "ExecuteTime": {
     "end_time": "2024-09-01T12:08:07.915910Z",
     "start_time": "2024-09-01T12:08:07.913769Z"
    }
   },
   "source": [
    "def getindices():\n",
    "    global tickers\n",
    "    f = open(\"symbols.txt\", \"r\")\n",
    "    for line in f:\n",
    "        tickers.append(line.strip())\n",
    "    f.close()"
   ],
   "outputs": [],
   "execution_count": 440
  },
  {
   "cell_type": "markdown",
   "id": "702d1da0-3ae6-4bfd-9f9e-2f861cbe51a8",
   "metadata": {},
   "source": [
    "**tradingday():** This finction checks if today is a trading day and returns a boolean."
   ]
  },
  {
   "cell_type": "code",
   "id": "184e071b-3d32-49c4-8869-6c191d2a9e1a",
   "metadata": {
    "ExecuteTime": {
     "end_time": "2024-09-01T12:08:07.937239Z",
     "start_time": "2024-09-01T12:08:07.934975Z"
    }
   },
   "source": [
    "def tradingday():\n",
    "    global prices, today\n",
    "    return np.datetime64(today) in list(prices.index.values)"
   ],
   "outputs": [],
   "execution_count": 441
  },
  {
   "cell_type": "markdown",
   "id": "ede60eb0-b2da-43a3-b954-b7b1d139a43e",
   "metadata": {},
   "source": [
    "**currentvalue():** This function calculates the total account value (money + the portfolio value)."
   ]
  },
  {
   "cell_type": "code",
   "id": "4183bf1d-bcc3-4c78-8ee0-1bc0280bd1b1",
   "metadata": {
    "ExecuteTime": {
     "end_time": "2024-09-01T12:08:07.971146Z",
     "start_time": "2024-09-01T12:08:07.968700Z"
    }
   },
   "source": [
    "def currentvalue():\n",
    "    global money, portfolio, today, prices\n",
    "    value = money\n",
    "    for ticker in tickers:\n",
    "        tickprice = getprice(today, ticker)\n",
    "        if not np.isnan(tickprice):\n",
    "            value += portfolio[ticker]*tickprice\n",
    "    return int(value*100)/100"
   ],
   "outputs": [],
   "execution_count": 442
  },
  {
   "cell_type": "markdown",
   "id": "d568cdac-778d-4965-ab1f-0c4ae930840b",
   "metadata": {},
   "source": "The main function resets the protfolio and iterates through all the dates, calling the simulation function in order to buy and sell according to our strategy."
  },
  {
   "cell_type": "code",
   "id": "32c3a88b-eef1-4e56-bc0d-c75b2ff9dc7e",
   "metadata": {
    "ExecuteTime": {
     "end_time": "2024-09-01T12:08:07.989983Z",
     "start_time": "2024-09-01T12:08:07.986953Z"
    }
   },
   "source": [
    "def main():\n",
    "    global today, money, portfolio\n",
    "    getindices()\n",
    "    for ticker in tickers:\n",
    "        portfolio[ticker] = 0\n",
    "    dates = []\n",
    "    money_list = []\n",
    "    accountvalue = []\n",
    "    while today < simend:\n",
    "        while not tradingday():\n",
    "            today += dt.timedelta(days=1)\n",
    "        simulation()\n",
    "        currentpvalue = currentvalue()\n",
    "        today += dt.timedelta(days=1)\n",
    "        accountvalue.append(currentpvalue)\n",
    "        dates.append(today)\n",
    "        money_list.append(money)\n",
    "    plt.plot(dates, accountvalue)\n",
    "    plt.xlabel(\"Date\")\n",
    "    plt.ylabel(\"Account Value\")\n",
    "    plt.xticks(rotation=90)\n",
    "    plt.show()"
   ],
   "outputs": [],
   "execution_count": 443
  },
  {
   "cell_type": "code",
   "id": "ea19cad6-ef7a-45f4-838d-ac669ab23c44",
   "metadata": {
    "ExecuteTime": {
     "end_time": "2024-09-01T12:08:46.156056Z",
     "start_time": "2024-09-01T12:08:08.010489Z"
    }
   },
   "source": [
    "main()"
   ],
   "outputs": [
    {
     "data": {
      "text/plain": [
       "<Figure size 640x480 with 1 Axes>"
      ],
      "image/png": "[encoded data removed]"
     },
     "metadata": {},
     "output_type": "display_data"
    }
   ],
   "execution_count": 444
  },
  {
   "metadata": {
    "ExecuteTime": {
     "end_time": "2024-09-01T12:08:46.199005Z",
     "start_time": "2024-09-01T12:08:46.173852Z"
    }
   },
   "cell_type": "code",
   "source": "pd.DataFrame(transactionlog)",
   "id": "53b3106c57b3a05f",
   "outputs": [
    {
     "data": {
      "text/plain": [
       "       transaction ID ticker  amount       price type        date\n",
       "0                   1   MSFT      96  207.289413  buy  2020-08-20\n",
       "1                   2   AAPL     173  115.583641  buy  2020-08-20\n",
       "2                   3   AMZN     121  164.868500  buy  2020-08-20\n",
       "3                   4  GOOGL     254   78.722153  buy  2020-08-20\n",
       "4                   5   GOOG     253   78.997604  buy  2020-08-20\n",
       "...               ...    ...     ...         ...  ...         ...\n",
       "34803           17441     MU     184  108.629997  buy  2024-08-19\n",
       "34804           17442    BLK      22  870.210022  buy  2024-08-19\n",
       "34805           17443    CCI     182  109.500000  buy  2024-08-19\n",
       "34806           17444   AMAT      94  210.536530  buy  2024-08-19\n",
       "34807           17445    NOW      24  832.880005  buy  2024-08-19\n",
       "\n",
       "[34808 rows x 6 columns]"
      ],
      "text/html": [
       "<div>\n",
       "<style scoped>\n",
       "    .dataframe tbody tr th:only-of-type {\n",
       "        vertical-align: middle;\n",
       "    }\n",
       "\n",
       "    .dataframe tbody tr th {\n",
       "        vertical-align: top;\n",
       "    }\n",
       "\n",
       "    .dataframe thead th {\n",
       "        text-align: right;\n",
       "    }\n",
       "</style>\n",
       "<table border=\"1\" class=\"dataframe\">\n",
       "  <thead>\n",
       "    <tr style=\"text-align: right;\">\n",
       "      <th></th>\n",
       "      <th>transaction ID</th>\n",
       "      <th>ticker</th>\n",
       "      <th>amount</th>\n",
       "      <th>price</th>\n",
       "      <th>type</th>\n",
       "      <th>date</th>\n",
       "    </tr>\n",
       "  </thead>\n",
       "  <tbody>\n",
       "    <tr>\n",
       "      <th>0</th>\n",
       "      <td>1</td>\n",
       "      <td>MSFT</td>\n",
       "      <td>96</td>\n",
       "      <td>207.289413</td>\n",
       "      <td>buy</td>\n",
       "      <td>2020-08-20</td>\n",
       "    </tr>\n",
       "    <tr>\n",
       "      <th>1</th>\n",
       "      <td>2</td>\n",
       "      <td>AAPL</td>\n",
       "      <td>173</td>\n",
       "      <td>115.583641</td>\n",
       "      <td>buy</td>\n",
       "      <td>2020-08-20</td>\n",
       "    </tr>\n",
       "    <tr>\n",
       "      <th>2</th>\n",
       "      <td>3</td>\n",
       "      <td>AMZN</td>\n",
       "      <td>121</td>\n",
       "      <td>164.868500</td>\n",
       "      <td>buy</td>\n",
       "      <td>2020-08-20</td>\n",
       "    </tr>\n",
       "    <tr>\n",
       "      <th>3</th>\n",
       "      <td>4</td>\n",
       "      <td>GOOGL</td>\n",
       "      <td>254</td>\n",
       "      <td>78.722153</td>\n",
       "      <td>buy</td>\n",
       "      <td>2020-08-20</td>\n",
       "    </tr>\n",
       "    <tr>\n",
       "      <th>4</th>\n",
       "      <td>5</td>\n",
       "      <td>GOOG</td>\n",
       "      <td>253</td>\n",
       "      <td>78.997604</td>\n",
       "      <td>buy</td>\n",
       "      <td>2020-08-20</td>\n",
       "    </tr>\n",
       "    <tr>\n",
       "      <th>...</th>\n",
       "      <td>...</td>\n",
       "      <td>...</td>\n",
       "      <td>...</td>\n",
       "      <td>...</td>\n",
       "      <td>...</td>\n",
       "      <td>...</td>\n",
       "    </tr>\n",
       "    <tr>\n",
       "      <th>34803</th>\n",
       "      <td>17441</td>\n",
       "      <td>MU</td>\n",
       "      <td>184</td>\n",
       "      <td>108.629997</td>\n",
       "      <td>buy</td>\n",
       "      <td>2024-08-19</td>\n",
       "    </tr>\n",
       "    <tr>\n",
       "      <th>34804</th>\n",
       "      <td>17442</td>\n",
       "      <td>BLK</td>\n",
       "      <td>22</td>\n",
       "      <td>870.210022</td>\n",
       "      <td>buy</td>\n",
       "      <td>2024-08-19</td>\n",
       "    </tr>\n",
       "    <tr>\n",
       "      <th>34805</th>\n",
       "      <td>17443</td>\n",
       "      <td>CCI</td>\n",
       "      <td>182</td>\n",
       "      <td>109.500000</td>\n",
       "      <td>buy</td>\n",
       "      <td>2024-08-19</td>\n",
       "    </tr>\n",
       "    <tr>\n",
       "      <th>34806</th>\n",
       "      <td>17444</td>\n",
       "      <td>AMAT</td>\n",
       "      <td>94</td>\n",
       "      <td>210.536530</td>\n",
       "      <td>buy</td>\n",
       "      <td>2024-08-19</td>\n",
       "    </tr>\n",
       "    <tr>\n",
       "      <th>34807</th>\n",
       "      <td>17445</td>\n",
       "      <td>NOW</td>\n",
       "      <td>24</td>\n",
       "      <td>832.880005</td>\n",
       "      <td>buy</td>\n",
       "      <td>2024-08-19</td>\n",
       "    </tr>\n",
       "  </tbody>\n",
       "</table>\n",
       "<p>34808 rows × 6 columns</p>\n",
       "</div>"
      ]
     },
     "execution_count": 445,
     "metadata": {},
     "output_type": "execute_result"
    }
   ],
   "execution_count": 445
  }
 ],
 "metadata": {
  "kernelspec": {
   "display_name": "Python 3 (ipykernel)",
   "language": "python",
   "name": "python3"
  },
  "language_info": {
   "codemirror_mode": {
    "name": "ipython",
    "version": 3
   },
   "file_extension": ".py",
   "mimetype": "text/x-python",
   "name": "python",
   "nbconvert_exporter": "python",
   "pygments_lexer": "ipython3",
   "version": "3.11.9"
  }
 },
 "nbformat": 4,
 "nbformat_minor": 5
}
