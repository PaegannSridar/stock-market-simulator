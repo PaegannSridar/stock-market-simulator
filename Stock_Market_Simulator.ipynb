{
 "cells": [
  {
   "cell_type": "markdown",
   "id": "1aa19ea2-02df-4ec2-ab0d-acc090ee9c86",
   "metadata": {},
   "source": [
    "Make all the imports"
   ]
  },
  {
   "cell_type": "code",
   "execution_count": 1,
   "id": "8aedb377-10c2-4932-92ee-5d19189b765c",
   "metadata": {},
   "outputs": [],
   "source": [
    "import pandas_datareader as web\n",
    "import yfinance as yf\n",
    "import pandas as pd\n",
    "import numpy as np\n",
    "import datetime as dt\n",
    "import matplotlib.pyplot as plt\n",
    "import math\n",
    "import warnings\n",
    "warnings.filterwarnings(\"ignore\")\n",
    "%matplotlib inline"
   ]
  },
  {
   "cell_type": "markdown",
   "id": "5faf7958-7255-41ff-9056-f3a0e14a7002",
   "metadata": {},
   "source": [
    "Get all the stock symbols and dowload all the closing prices and the volumes traded from Yahoo Finance"
   ]
  },
  {
   "cell_type": "code",
   "execution_count": 431,
   "id": "061d90cb-c802-4d35-bc83-6350d722c782",
   "metadata": {},
   "outputs": [
    {
     "name": "stderr",
     "output_type": "stream",
     "text": [
      "[**********************54%%                      ]  274 of 503 completedFailed to get ticker 'FBHS' reason: Response ended prematurely\n",
      "[*********************100%%**********************]  503 of 503 completed\n",
      "\n",
      "48 Failed downloads:\n",
      "['TWTR', 'FB', 'ANTM', 'TIF', 'ETFC', 'RE', 'ABMD', 'NLOK', 'PKI', 'MXIM', 'ALXN', 'ATVI', 'NBL', 'XLNX', 'VAR', 'VIAC', 'FLT', 'WCG', 'PXD', 'DRE', 'ARNC', 'CXO', 'KSU', 'HFC', 'AGN', 'NLSN', 'FLIR', 'CTL', 'DISCK', 'PEAK', 'FBHS', 'DISH', 'MYL', 'DISCA', 'WLTW', 'INFO', 'BLL', 'XEC', 'CTXS', 'UTX', 'FRC', 'ABC', 'COG', 'PBCT', 'RTN', 'ADS', 'CERN']: YFTzMissingError('$%ticker%: possibly delisted; No timezone found')\n",
      "['SIVB']: YFInvalidPeriodError(\"%ticker%: Period 'max' is invalid, must be one of ['1d', '5d']\")\n",
      "[*********************100%%**********************]  503 of 503 completed\n",
      "\n",
      "48 Failed downloads:\n",
      "['TWTR', 'FB', 'ANTM', 'ETFC', 'TIF', 'RE', 'ABMD', 'NLOK', 'MXIM', 'PKI', 'ALXN', 'XLNX', 'ATVI', 'NBL', 'VAR', 'VIAC', 'FLT', 'PXD', 'WCG', 'ARNC', 'DRE', 'CXO', 'KSU', 'HFC', 'AGN', 'NLSN', 'FLIR', 'CTL', 'DISCK', 'PEAK', 'FBHS', 'DISH', 'MYL', 'DISCA', 'WLTW', 'INFO', 'XEC', 'BLL', 'CTXS', 'UTX', 'FRC', 'ABC', 'COG', 'RTN', 'CERN', 'PBCT', 'ADS']: YFTzMissingError('$%ticker%: possibly delisted; No timezone found')\n",
      "['SIVB']: YFInvalidPeriodError(\"%ticker%: Period 'max' is invalid, must be one of ['1d', '5d']\")\n"
     ]
    }
   ],
   "source": [
    "stocks = []\n",
    "f = open('symbols.txt', 'r')\n",
    "for line in f:\n",
    "    stocks.append(line.strip())\n",
    "f.close()\n",
    "\n",
    "yf.download(stocks, start='2000-01-01', end='2024-08-02')['Adj Close'].to_csv('prices.csv')\n",
    "yf.download(stocks, start='2000-01-01', end='2024-08-02')['Volume'].to_csv('volume.csv')\n",
    "#web.DataReader(stocks, 'yahoo', start='2000-1-1', end='2019-12-31')['Adj Close'].to_csv('prices.csv')\n",
    "#web.DataReader(stocks, 'yahoo', start='2000-1-1', end='2019-12-31')['Volume'].to_csv('volume.csv')"
   ]
  },
  {
   "cell_type": "markdown",
   "id": "3f9cd777-97c1-43a2-9e51-21f72a8f4fd5",
   "metadata": {},
   "source": [
    "Create dataframes containing the log changes in volumes and log changes in price"
   ]
  },
  {
   "cell_type": "code",
   "execution_count": 582,
   "id": "ee278278-6442-4ae0-a801-e20f38567c8f",
   "metadata": {},
   "outputs": [],
   "source": [
    "prices = pd.read_csv('prices.csv', index_col = 'Date', parse_dates=True)\n",
    "volumechanges = pd.read_csv('volume.csv', index_col = 'Date', parse_dates=True)\n",
    "volumechanges = np.log(volumechanges / volumechanges.shift(1))\n",
    "pricechanges = pd.read_csv('prices.csv', index_col = 'Date', parse_dates=True)\n",
    "twoDayChange = np.log(pricechanges / pricechanges.shift(2))\n",
    "pricechanges = np.log(pricechanges / pricechanges.shift(1))"
   ]
  },
  {
   "cell_type": "markdown",
   "id": "6217a45d-6e45-460a-9fec-ba25ed337072",
   "metadata": {},
   "source": [
    "Set the start and end date of the simulation and all the lists/dictionaries required for the simulation"
   ]
  },
  {
   "cell_type": "code",
   "execution_count": 583,
   "id": "9cbd7000-5ba7-4ba6-83d6-edb3eca970be",
   "metadata": {},
   "outputs": [],
   "source": [
    "today = dt.date(2024,1,1)\n",
    "simend = dt.date(2024,8,2)\n",
    "tickers = []\n",
    "transactionid = 0\n",
    "money = 1000000\n",
    "portfolio = {}\n",
    "activelog = []\n",
    "transactionlog = []"
   ]
  },
  {
   "cell_type": "markdown",
   "id": "c04d4297-4316-4fda-96cc-230682fea083",
   "metadata": {},
   "source": [
    "Get the current prices of all stocks."
   ]
  },
  {
   "cell_type": "code",
   "execution_count": 584,
   "id": "b4cf9cce-1572-47fa-90e5-748f550daa30",
   "metadata": {},
   "outputs": [],
   "source": [
    "def getprice(date, ticker):\n",
    "    global prices\n",
    "    return prices.loc[np.datetime64(date)][ticker]"
   ]
  },
  {
   "cell_type": "markdown",
   "id": "c056b3bc-39c0-41d2-9ac0-b44fe73c409f",
   "metadata": {},
   "source": [
    "Makes two dictionaries of all the transactoins we do:\n",
    "- The first dictionary is all of our active positions\n",
    "- The second dictionary contains all transactions that have been made.\n"
   ]
  },
  {
   "cell_type": "code",
   "execution_count": 585,
   "id": "2667f915-2d01-4c45-b9d8-9f46c30cf792",
   "metadata": {},
   "outputs": [],
   "source": [
    "def transaction(trans_id, ticker, amount, price, trans_type, info):\n",
    "    global transactionid\n",
    "    if trans_type == 'buy':\n",
    "        transactionid += 1\n",
    "        data = {'transaction ID':transactionid, 'ticker':ticker, 'amount':amount, 'price':price, 'type':trans_type, 'info':info}\n",
    "        activelog.append(data)\n",
    "    elif trans_type == 'sell':\n",
    "        data = {'transaction ID':trans_id, 'ticker':ticker, 'amount':amount, 'price':price, 'type':trans_type, 'info':info}\n",
    "    transactionlog.append(data)"
   ]
  },
  {
   "cell_type": "markdown",
   "id": "4a36983e-966c-40a8-8bc8-83bf664051cc",
   "metadata": {},
   "source": [
    "This function buys all of the stocks in our interest list with the allocated money and then calls the transaction function to record the transaction"
   ]
  },
  {
   "cell_type": "code",
   "execution_count": 586,
   "id": "ac2ae58e-130b-41df-b297-55375118c69d",
   "metadata": {},
   "outputs": [],
   "source": [
    "def buy(interestlst, allocated_money):\n",
    "    global money, portfolio\n",
    "    for item in interestlst:\n",
    "        price = getprice(today, item)\n",
    "        if not np.isnan(price):\n",
    "            quantity = math.floor(allocated_money/price)\n",
    "            money -= quantity*price\n",
    "            portfolio[item] += quantity\n",
    "            transaction(0, item, quantity, price, 'buy', \"\")"
   ]
  },
  {
   "cell_type": "markdown",
   "id": "2b9d2322-894a-442d-8340-a1e5225f2206",
   "metadata": {},
   "source": [
    "Sells all the stocks that meet the conditions of our strategy. The transaction() function is called to record the transaction. All the sold stocks are removed from our active log."
   ]
  },
  {
   "cell_type": "code",
   "execution_count": 587,
   "id": "7deb3456-2921-4993-a3be-fcb80cd52505",
   "metadata": {},
   "outputs": [],
   "source": [
    "def sell():\n",
    "    global money, portfolio, prices, today\n",
    "    short_window = 50\n",
    "    long_window = 100\n",
    "    short_ma = prices.rolling(window=short_window).mean()\n",
    "    long_ma = prices.rolling(window=long_window).mean()\n",
    "    itemstoremove = []\n",
    "   \n",
    "    for i in range(len(activelog)):\n",
    "        log = activelog[i]\n",
    "        ticker = log['ticker']\n",
    "        original_price = log['price']\n",
    "        tickprice = getprice(today, ticker)\n",
    "        if np.isnan(tickprice):\n",
    "            continue  \n",
    "        try:\n",
    "            short_ma_value = short_ma.loc[today, ticker]\n",
    "            long_ma_value = long_ma.loc[today, ticker]\n",
    "        except KeyError:\n",
    "            continue \n",
    "        if (short_ma_value < long_ma_value) or (0.98 * original_price >= tickprice):\n",
    "            if portfolio[ticker] > 0:  \n",
    "                money += log[\"amount\"] * tickprice\n",
    "                portfolio[ticker] -= log[\"amount\"]\n",
    "                transaction(log[\"transaction ID\"], ticker, log[\"amount\"], tickprice, \"sell\")\n",
    "                itemstoremove.append(i)\n",
    "        else:\n",
    "            if 1.03 * original_price <= tickprice:\n",
    "                money += log[\"amount\"] * tickprice\n",
    "                portfolio[ticker] -= log[\"amount\"]\n",
    "                transaction(log[\"transaction ID\"], ticker, log[\"amount\"], tickprice, \"sell\")\n",
    "                itemstoremove.append(i)\n",
    "    itemstoremove.reverse()\n",
    "    for elem in itemstoremove:\n",
    "        activelog.remove(activelog[elem])\n"
   ]
  },
  {
   "cell_type": "markdown",
   "id": "f11ba4cf-76b4-4bc6-94a3-74eb98a06cde",
   "metadata": {},
   "source": [
    "Creates a list of all the stocks that are worth buying according to our strategy"
   ]
  },
  {
   "cell_type": "code",
   "execution_count": 588,
   "id": "d3e6d1f0-ae86-4e8d-b671-d361a7c6c199",
   "metadata": {},
   "outputs": [],
   "source": [
    "def simulation():\n",
    "    global today, prices, money, portfolio, pricechanges\n",
    "    short_window = 50\n",
    "    long_window = 100\n",
    "    short_ma = prices.rolling(window=short_window).mean()\n",
    "    long_ma = prices.rolling(window=long_window).mean()\n",
    "    tickers = portfolio.keys()\n",
    "    interestlst = []\n",
    "    start_date = today - dt.timedelta(days=7)\n",
    "\n",
    "    for ticker in tickers:\n",
    "        short_ma_value = short_ma[ticker].loc[np.datetime64(today)]\n",
    "        long_ma_value = long_ma[ticker].loc[np.datetime64(today)]\n",
    "        if np.isnan(short_ma_value) or np.isnan(long_ma_value):\n",
    "            continue\n",
    "        if short_ma_value > long_ma_value:\n",
    "            if portfolio[ticker] == 0:\n",
    "                interestlst.append(ticker)\n",
    "   \n",
    "    meanprice = pricechanges.loc[start_date:today].mean().sort_values()\n",
    "    interestlst2 = meanprice[(meanprice > 0.00900)].index.tolist()\n",
    "    interestlst.extend(interestlst2)\n",
    "\n",
    "    if len(interestlst) > 0:\n",
    "        #moneyToAllocate = 500000/len(interestlst)\n",
    "        moneyToAllocate = currentvalue()/(2*len(interestlst))\n",
    "        buy(interestlst[0:round(len(interestlst)/2)], moneyToAllocate)"
   ]
  },
  {
   "cell_type": "markdown",
   "id": "6ad561d2-f638-4996-82b6-678220452542",
   "metadata": {},
   "source": [
    "**getindices():** This function gets all the stock symbols and stores them."
   ]
  },
  {
   "cell_type": "code",
   "execution_count": 589,
   "id": "a932c1ab-6c2f-4565-af09-5d58617233e6",
   "metadata": {},
   "outputs": [],
   "source": [
    "def getindices():\n",
    "    global tickers\n",
    "    f = open(\"symbols.txt\", \"r\")\n",
    "    for line in f:\n",
    "        tickers.append(line.strip())\n",
    "    f.close()"
   ]
  },
  {
   "cell_type": "markdown",
   "id": "702d1da0-3ae6-4bfd-9f9e-2f861cbe51a8",
   "metadata": {},
   "source": [
    "**tradingday():** This finction checks if today is a trading day and returns a boolean."
   ]
  },
  {
   "cell_type": "code",
   "execution_count": 590,
   "id": "184e071b-3d32-49c4-8869-6c191d2a9e1a",
   "metadata": {},
   "outputs": [],
   "source": [
    "def tradingday():\n",
    "    global prices, today\n",
    "    return np.datetime64(today) in list(prices.index.values)"
   ]
  },
  {
   "cell_type": "markdown",
   "id": "ede60eb0-b2da-43a3-b954-b7b1d139a43e",
   "metadata": {},
   "source": [
    "**currentvalue():** This function calculates the total account value (money + the portfolio value)."
   ]
  },
  {
   "cell_type": "code",
   "execution_count": 591,
   "id": "4183bf1d-bcc3-4c78-8ee0-1bc0280bd1b1",
   "metadata": {},
   "outputs": [],
   "source": [
    "def currentvalue():\n",
    "    global money, portfolio, today, prices\n",
    "    value = money\n",
    "    for ticker in tickers:\n",
    "        tickprice = getprice(today, ticker)\n",
    "        if not np.isnan(tickprice):\n",
    "            value += portfolio[ticker]*tickprice\n",
    "    return int(value*100)/100"
   ]
  },
  {
   "cell_type": "markdown",
   "id": "d568cdac-778d-4965-ab1f-0c4ae930840b",
   "metadata": {},
   "source": [
    "The main function resets the protfolio and iterates through all the dates, calling the simulation function in order to buy and sell according to our strategy."
   ]
  },
  {
   "cell_type": "code",
   "execution_count": 592,
   "id": "32c3a88b-eef1-4e56-bc0d-c75b2ff9dc7e",
   "metadata": {},
   "outputs": [],
   "source": [
    "def main():\n",
    "    global today, money, portfolio\n",
    "    getindices()\n",
    "    for ticker in tickers:\n",
    "        portfolio[ticker] = 0\n",
    "    dates = []\n",
    "    accountvalue = []\n",
    "    while today < simend:\n",
    "        while not tradingday():\n",
    "            today += dt.timedelta(days=1)\n",
    "        simulation()\n",
    "        currentpvalue = currentvalue()\n",
    "        today += dt.timedelta(days=1)\n",
    "        accountvalue.append(currentpvalue)\n",
    "        dates.append(today)\n",
    "    plt.plot(dates, accountvalue)\n",
    "    plt.xlabel(\"Date\")\n",
    "    plt.ylabel(\"Account Value (millions)\")\n",
    "    plt.show()"
   ]
  },
  {
   "cell_type": "code",
   "execution_count": 593,
   "id": "ea19cad6-ef7a-45f4-838d-ac669ab23c44",
   "metadata": {},
   "outputs": [
    {
     "data": {
      "image/png": "[encoded data removed]",
      "text/plain": [
       "<Figure size 640x480 with 1 Axes>"
      ]
     },
     "metadata": {},
     "output_type": "display_data"
    }
   ],
   "source": [
    "main()"
   ]
  }
 ],
 "metadata": {
  "kernelspec": {
   "display_name": "Python 3 (ipykernel)",
   "language": "python",
   "name": "python3"
  },
  "language_info": {
   "codemirror_mode": {
    "name": "ipython",
    "version": 3
   },
   "file_extension": ".py",
   "mimetype": "text/x-python",
   "name": "python",
   "nbconvert_exporter": "python",
   "pygments_lexer": "ipython3",
   "version": "3.12.4"
  }
 },
 "nbformat": 4,
 "nbformat_minor": 5
}
